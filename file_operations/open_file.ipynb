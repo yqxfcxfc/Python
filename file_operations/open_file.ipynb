{
 "cells": [
  {
   "cell_type": "markdown",
   "source": [
    "## 打开文件"
   ],
   "metadata": {
    "collapsed": false
   }
  },
  {
   "cell_type": "code",
   "execution_count": 102,
   "metadata": {
    "collapsed": true
   },
   "outputs": [
    {
     "name": "stdout",
     "output_type": "stream",
     "text": [
      "中国\n",
      "\n",
      "b'\\xe4\\xb8\\xad\\xe5\\x9b\\xbd\\n'\n"
     ]
    }
   ],
   "source": [
    "f = open('test.txt','rt',encoding='utf-8') # t表示文本格式方式\n",
    "print(f.readline()) # 输出：中国\n",
    "f.close() # 文件使用结束后要关闭，释放文件的使用授权\n",
    "f = open('test.txt','rb') # b表示二进制格式方式\n",
    "print(f.readline()) # 输出：b'\\xe4\\xb8\\xad\\xe5\\x9b\\xbd'\n",
    "f.close() # 关闭文件"
   ]
  },
  {
   "cell_type": "code",
   "execution_count": 103,
   "outputs": [
    {
     "name": "stdout",
     "output_type": "stream",
     "text": [
      "test1.txt 文件创建成功\n"
     ]
    }
   ],
   "source": [
    "fileName = 'test1.txt' # 创建的文件名\n",
    "try:\n",
    "    fp = open(fileName,'w+') # 创建文件，w+ 模式打开文件，如果不存在，则创建，不会抛出异常\n",
    "    print('%s 文件创建成功'%fileName) # 提示创建成功\n",
    "except IOError:\n",
    "    print('文件创建失败，%s 文件不存在'%fileName) # 提示创建失败\n",
    "finally:\n",
    "    fp.close() # 关闭文件\n",
    "# 输出：test1.txt 文件创建成功"
   ],
   "metadata": {
    "collapsed": false
   }
  },
  {
   "cell_type": "code",
   "execution_count": 104,
   "outputs": [],
   "source": [
    "fileName = 'test2.txt'\n",
    "try:\n",
    "    fp = open(fileName,'r') # r 模式只能打开已存在的文件，当打开不存在的文件时，抛出异常\n",
    "except IOError:\n",
    "    print('文件创建失败，%s 文件不存在'%fileName) # 提示创建失败\n",
    "finally:\n",
    "    fp.close() # 关闭文件\n",
    "# 输出：文件创建失败，test2.txt 文件不存在"
   ],
   "metadata": {
    "collapsed": false
   }
  },
  {
   "cell_type": "markdown",
   "source": [
    "## 读取文件"
   ],
   "metadata": {
    "collapsed": false
   }
  },
  {
   "cell_type": "code",
   "execution_count": 105,
   "outputs": [
    {
     "name": "stdout",
     "output_type": "stream",
     "text": [
      "中国\n",
      "\n",
      "人生苦短，我爱python\n",
      "\n",
      "我是five\n"
     ]
    }
   ],
   "source": [
    "with open('test.txt','r',encoding='utf-8') as file: # 打开文件\n",
    "    for line in file.readlines(): # 迭代每行字符串\n",
    "        print(line) # 打印每一行字符串"
   ],
   "metadata": {
    "collapsed": false
   }
  },
  {
   "cell_type": "code",
   "execution_count": 106,
   "outputs": [
    {
     "name": "stdout",
     "output_type": "stream",
     "text": [
      "中国\n",
      "人生苦短，我爱python\n",
      "我是five\n",
      "45\n",
      "0\n",
      "['中国\\n', '人生苦短，我爱python\\n', '我是five']\n"
     ]
    }
   ],
   "source": [
    "f = open('test.txt','r',encoding='utf-8')\n",
    "s = f.read()\n",
    "print(s)\n",
    "print(f.tell())\n",
    "f.seek(0)\n",
    "print(f.tell())\n",
    "ls = f.readlines()\n",
    "print(ls)\n",
    "f.close()"
   ],
   "metadata": {
    "collapsed": false
   }
  },
  {
   "cell_type": "code",
   "execution_count": 107,
   "outputs": [
    {
     "name": "stdout",
     "output_type": "stream",
     "text": [
      "['中国\\n', '人生苦短，我爱python\\n', '我是five']\n"
     ]
    }
   ],
   "source": [
    "f = open('test.txt','r',encoding='utf-8')\n",
    "ls = f.readlines()\n",
    "print(ls)\n",
    "f.close()"
   ],
   "metadata": {
    "collapsed": false
   }
  },
  {
   "cell_type": "code",
   "execution_count": 108,
   "outputs": [
    {
     "name": "stdout",
     "output_type": "stream",
     "text": [
      "中国\n",
      "\n",
      "人生苦短，我爱python\n",
      "\n",
      "我是five\n"
     ]
    }
   ],
   "source": [
    "f = open('test.txt','r',encoding='utf-8')\n",
    "for line in f:\n",
    "    print(line)\n",
    "f.close()"
   ],
   "metadata": {
    "collapsed": false
   }
  },
  {
   "cell_type": "code",
   "execution_count": 109,
   "outputs": [
    {
     "name": "stdout",
     "output_type": "stream",
     "text": [
      "中国\n",
      "\n",
      "人生苦短，我爱python\n",
      "\n",
      "我是five\n"
     ]
    }
   ],
   "source": [
    "f = open('test.txt','r',encoding='utf-8')\n",
    "while True: # 执行无限循环\n",
    "    line = f.readline() # 读取每行文本\n",
    "    if line: # 如果不是尾行，则显示读取的文本\n",
    "        print(line)\n",
    "    else: # 如果时尾行，则跳出循环\n",
    "        break\n",
    "f.close() # 关闭"
   ],
   "metadata": {
    "collapsed": false
   }
  },
  {
   "cell_type": "markdown",
   "source": [
    "## 写入文件"
   ],
   "metadata": {
    "collapsed": false
   }
  },
  {
   "cell_type": "code",
   "execution_count": 110,
   "outputs": [],
   "source": [
    "ls = [\n",
    "    ['指标','2014年','2015年','2016年'],\n",
    "    ['居民消费价格指数','102','101.4','102'],\n",
    "    ['食品','103.1','102.3','104.6'],\n",
    "    ['烟酒及用品','994','102.1','101.5'],\n",
    "    ['衣着','102.4','102.7','101.4'],\n",
    "    ['家庭设备用品','101.2','101','100.5'],\n",
    "    ['医疗保健和个人用品','101.3','102','101.1'],\n",
    "    ['交通和通信','99.9','98.3','98.7'],\n",
    "    ['游乐教育文化','101.9','101.4','101.6'],\n",
    "    ['居住','102','100.7','101.6'],\n",
    "]\n",
    "f = open('cpi.csv','w',encoding='utf-8') # w 模式，存在文件，则清空内容，不存在则新建\n",
    "for row in ls:\n",
    "    f.write(','.join(row)+'\\n')\n",
    "f.close()"
   ],
   "metadata": {
    "collapsed": false
   }
  },
  {
   "cell_type": "code",
   "execution_count": 111,
   "outputs": [
    {
     "name": "stdout",
     "output_type": "stream",
     "text": [
      "[['指标', '2014年', '2015年', '2016年'], ['居民消费价格指数', '102', '101.4', '102'], ['食品', '103.1', '102.3', '104.6'], ['烟酒及用品', '994', '102.1', '101.5'], ['衣着', '102.4', '102.7', '101.4'], ['家庭设备用品', '101.2', '101', '100.5'], ['医疗保健和个人用品', '101.3', '102', '101.1'], ['交通和通信', '99.9', '98.3', '98.7'], ['游乐教育文化', '101.9', '101.4', '101.6'], ['居住', '102', '100.7', '101.6']]\n"
     ]
    }
   ],
   "source": [
    "f = open('cpi.csv','r') # r 默认打开文本文件\n",
    "ls = [] # 定义空列表\n",
    "for line in f:\n",
    "    ls.append(line.strip('\\n').split(',')) # 去除换行符 逗号分隔符分隔\n",
    "print(ls)\n",
    "f.close()"
   ],
   "metadata": {
    "collapsed": false
   }
  },
  {
   "cell_type": "code",
   "execution_count": 112,
   "outputs": [
    {
     "name": "stdout",
     "output_type": "stream",
     "text": [
      "[['指标', '2014年', '2015年', '2016年'], ['居民消费价格指数', '102', '101.4', '102'], ['食品', '103.1', '102.3', '104.6'], ['烟酒及用品', '994', '102.1', '101.5'], ['衣着', '102.4', '102.7', '101.4'], ['家庭设备用品', '101.2', '101', '100.5'], ['医疗保健和个人用品', '101.3', '102', '101.1'], ['交通和通信', '99.9', '98.3', '98.7'], ['游乐教育文化', '101.9', '101.4', '101.6'], ['居住', '102', '100.7', '101.6']]\n",
      "----------------------------------------------------------------------------------------------------\n",
      "指标        \t2014年     \t2015年     \t2016年     \t\n",
      "居民消费价格指数  \t102       \t101.4     \t102       \t\n",
      "食品        \t103.1     \t102.3     \t104.6     \t\n",
      "烟酒及用品     \t994       \t102.1     \t101.5     \t\n",
      "衣着        \t102.4     \t102.7     \t101.4     \t\n",
      "家庭设备用品    \t101.2     \t101       \t100.5     \t\n",
      "医疗保健和个人用品 \t101.3     \t102       \t101.1     \t\n",
      "交通和通信     \t99.9      \t98.3      \t98.7      \t\n",
      "游乐教育文化    \t101.9     \t101.4     \t101.6     \t\n",
      "居住        \t102       \t100.7     \t101.6     \t\n"
     ]
    }
   ],
   "source": [
    "f = open('cpi.csv','r') # r 默认打开文本文件\n",
    "ls = [] # 定义空列表\n",
    "for line in f:\n",
    "    ls.append(line.strip('\\n').split(',')) # 去除换行符 逗号分隔符分隔\n",
    "f.close() # 关闭\n",
    "print(ls) # 打印数据列表\n",
    "print('-'*100) # 分隔区分\n",
    "for row in ls: # 遍历列表\n",
    "    line = '' # 定义空字符串\n",
    "    for item in row:\n",
    "        line += '{:10}\\t'.format(item) # 指定宽度格式化打印\n",
    "    print(line) # 遍历打印"
   ],
   "metadata": {
    "collapsed": false
   }
  },
  {
   "cell_type": "markdown",
   "source": [
    "## 删除文件"
   ],
   "metadata": {
    "collapsed": false
   }
  },
  {
   "cell_type": "code",
   "execution_count": 113,
   "outputs": [
    {
     "name": "stdout",
     "output_type": "stream",
     "text": [
      "test2.txt 文件删除成功\n"
     ]
    }
   ],
   "source": [
    "import os # 导入os模块\n",
    "f = 'test2.txt' # 指定要操作的文件\n",
    "if os.path.exists(f): # 判断文件是否存在\n",
    "    os.remove(f) # 存在则删除文件\n",
    "    print('%s 文件删除成功'% f) # 提示删除成功\n",
    "else: # 不存在则提示\n",
    "    print('%s 文件不存在'% f)"
   ],
   "metadata": {
    "collapsed": false
   }
  },
  {
   "cell_type": "markdown",
   "source": [
    "## 复制文件"
   ],
   "metadata": {
    "collapsed": false
   }
  },
  {
   "cell_type": "code",
   "execution_count": 114,
   "outputs": [],
   "source": [
    "music_name = '火车日记.mp3' # 定义文件名\n",
    "with open(music_name,'rb') as music: # 以字节流方式打开文件，赋予读权限\n",
    "    new_name = 'a.mp3' # 定义复制后的文件名\n",
    "    with open(new_name,'wb') as new_music: # 以字节方式打开文件，赋予写权限\n",
    "        buffer = 1024 # 定义一次读1024字节\n",
    "        while True: # 循环读取\n",
    "            content = music.read(buffer) # 读取内容\n",
    "            if not content: # 当文件读取结束\n",
    "                break # 跳出循环\n",
    "            new_music.write(content) # 写内容"
   ],
   "metadata": {
    "collapsed": false
   }
  },
  {
   "cell_type": "markdown",
   "source": [
    "## 重命名文件"
   ],
   "metadata": {
    "collapsed": false
   }
  },
  {
   "cell_type": "code",
   "execution_count": 115,
   "outputs": [
    {
     "name": "stdout",
     "output_type": "stream",
     "text": [
      "['a.mp3', 'cpi.csv', 'test1.txt', 'test3.txt', '火车日记.mp3', '1.html', 'filtered_words.txt', '1.ipynb', 'test.txt', 'open_file.ipynb']\n"
     ]
    }
   ],
   "source": [
    "import os\n",
    "path = os.listdir('.') # 获取当前目录下所有文件或文件夹名称列表\n",
    "print(path) # 显示列表：['a.mp3', 'cpi.csv', 'test1.txt', '火车日记.mp3', 'test.txt', 'open_file.ipynb']\n",
    "if 'test1.txt' in path: # 如果存在test1.txt\n",
    "    os.rename('test1.txt','test2.txt') # 将test1.txt改名为test2.txt\n",
    "elif 'test2.txt' in path: # 如果存在test2.txt\n",
    "    os.rename('test2.txt','test1.txt') # 将test2.txt改为test1.txt"
   ],
   "metadata": {
    "collapsed": false
   }
  },
  {
   "cell_type": "code",
   "execution_count": 116,
   "outputs": [],
   "source": [
    "# 把扩展名为htm的文件修改为html\n",
    "import os\n",
    "path = os.listdir('.') # 获取当前目录下所有文件或目录名称列表\n",
    "for filename in path: # 遍历当前目录下所有文件\n",
    "    pos = filename .find('.') # 获取文件扩展名前的点号下标位置\n",
    "    if filename[pos+1:] == 'htm': # 如果文件扩展名为htm\n",
    "        newname = filename[:pos+1] + 'html' # 定义新的文件名，改扩展名为html\n",
    "        os.rename(filename,newname) # 重命名文件"
   ],
   "metadata": {
    "collapsed": false
   }
  },
  {
   "cell_type": "markdown",
   "source": [
    "## 文件搜索和替换"
   ],
   "metadata": {
    "collapsed": false
   }
  },
  {
   "cell_type": "code",
   "execution_count": 5,
   "outputs": [
    {
     "name": "stdout",
     "output_type": "stream",
     "text": [
      "脱敏前： ['程序员、北京朝阳、上海']\n",
      "脱敏后：['程序员、**朝阳、上海']\n"
     ]
    }
   ],
   "source": [
    "def filterwords(file_name): # 定义敏感词过滤函数\n",
    "    with open(file_name,'r') as f:\n",
    "        content = f.read()\n",
    "        word_list = content.split('\\n') # 将文件内容转换成列表格式\n",
    "        print('脱敏前：',word_list)\n",
    "        text = input('敏感词过滤：') # 输入测试内容\n",
    "        new_word_list = [] # 定义一个新列表\n",
    "        for word in word_list: # 遍历敏感词列表\n",
    "            if text in word: # 测试内含敏感词\n",
    "                length = len(text) # 获取敏感词长度\n",
    "                word = word.replace(text,'*'*length) # 用*替换敏感词\n",
    "            new_word_list.append(word) # 内容追加\n",
    "        return '脱敏后：'+str(new_word_list) # 返回脱敏后内容\n",
    "file = 'filtered_words.txt'\n",
    "print(filterwords(file))"
   ],
   "metadata": {
    "collapsed": false
   }
  },
  {
   "cell_type": "code",
   "execution_count": 118,
   "outputs": [
    {
     "name": "stdout",
     "output_type": "stream",
     "text": [
      "['程序员', '**朝阳', '上海']\n"
     ]
    }
   ],
   "source": [
    "word_list = ['程序员','北京朝阳','上海']\n",
    "text = '北京' # 输入测试内容\n",
    "new_word = []\n",
    "for word in word_list: # 遍历敏感词列表\n",
    "    if text in word: # 测试内含敏感词\n",
    "        length = len(text) # 获取敏感词长度\n",
    "        word = word.replace(text,'*'*length)\n",
    "    new_word.append(word)\n",
    "print(new_word)"
   ],
   "metadata": {
    "collapsed": false
   }
  },
  {
   "cell_type": "markdown",
   "source": [
    "### 查找"
   ],
   "metadata": {
    "collapsed": false
   }
  },
  {
   "cell_type": "code",
   "execution_count": 7,
   "outputs": [
    {
     "name": "stdout",
     "output_type": "stream",
     "text": [
      "查找到 9 five\n"
     ]
    }
   ],
   "source": [
    "import re # 导入正则模块\n",
    "f1 = open('test3.txt','r') # 以只读模式打开文件\n",
    "count = 0 # 定义计数变量\n",
    "for s in f1.readlines(): # 读取文件每一行字符串，然后迭代\n",
    "    li = re.findall('five',s) # 在每行字符串搜索字符串'five'\n",
    "    if len(li) > 0: # 如果字符串长度大于0，说明存在指定字符串\n",
    "        count = count + li.count('five') # 累计求和出现次数\n",
    "print('查找到',str(count),'个five') # 输出显示字符串出现次数\n",
    "f1.close() # 关闭"
   ],
   "metadata": {
    "collapsed": false
   }
  },
  {
   "cell_type": "markdown",
   "source": [
    "### 替换"
   ],
   "metadata": {
    "collapsed": false
   }
  },
  {
   "cell_type": "code",
   "execution_count": 8,
   "outputs": [],
   "source": [
    "f1 = open('test3.txt')\n",
    "f2 = open('test4.txt','w')\n",
    "for i in f1.readlines():\n",
    "    f2.write(i.replace('five','python')) # 替换\n",
    "f1.close()\n",
    "f2.close()"
   ],
   "metadata": {
    "collapsed": false
   }
  },
  {
   "cell_type": "markdown",
   "source": [
    "## 获取文件基本信息"
   ],
   "metadata": {
    "collapsed": false
   }
  },
  {
   "cell_type": "code",
   "execution_count": 10,
   "outputs": [
    {
     "name": "stdout",
     "output_type": "stream",
     "text": [
      "33188\n",
      "24682428\n",
      "16777234\n",
      "1\n",
      "501\n",
      "20\n",
      "86\n",
      "1701420481.001421\n",
      "1701420479.786718\n",
      "1701420479.786718\n"
     ]
    }
   ],
   "source": [
    "import os\n",
    "path = 'test3.txt'\n",
    "print(os.stat(path).st_mode)\n",
    "print(os.stat(path).st_ino)\n",
    "print(os.stat(path).st_dev)\n",
    "print(os.stat(path).st_nlink)\n",
    "print(os.stat(path).st_uid)\n",
    "print(os.stat(path).st_gid)\n",
    "print(os.stat(path).st_size)\n",
    "print(os.stat(path).st_atime)\n",
    "print(os.stat(path).st_mtime)\n",
    "print(os.stat(path).st_ctime)\n"
   ],
   "metadata": {
    "collapsed": false
   }
  },
  {
   "cell_type": "markdown",
   "source": [
    "## 目录基本操作"
   ],
   "metadata": {
    "collapsed": false
   }
  },
  {
   "cell_type": "code",
   "execution_count": 11,
   "outputs": [
    {
     "name": "stdout",
     "output_type": "stream",
     "text": [
      "/Users/guanfawang/Python_Language/file_operations\n"
     ]
    }
   ],
   "source": [
    "import os\n",
    "print(os.getcwd())"
   ],
   "metadata": {
    "collapsed": false
   }
  },
  {
   "cell_type": "code",
   "execution_count": 12,
   "outputs": [
    {
     "ename": "OSError",
     "evalue": "[Errno 30] Read-only file system: '/g_path.txt'",
     "output_type": "error",
     "traceback": [
      "\u001B[0;31m---------------------------------------------------------------------------\u001B[0m",
      "\u001B[0;31mOSError\u001B[0m                                   Traceback (most recent call last)",
      "Input \u001B[0;32mIn [12]\u001B[0m, in \u001B[0;36m<cell line: 4>\u001B[0;34m()\u001B[0m\n\u001B[1;32m      2\u001B[0m f\u001B[38;5;241m.\u001B[39mwrite(\u001B[38;5;124m'\u001B[39m\u001B[38;5;124m当前目录\u001B[39m\u001B[38;5;124m'\u001B[39m)\n\u001B[1;32m      3\u001B[0m f\u001B[38;5;241m.\u001B[39mclose()\n\u001B[0;32m----> 4\u001B[0m f \u001B[38;5;241m=\u001B[39m \u001B[38;5;28;43mopen\u001B[39;49m\u001B[43m(\u001B[49m\u001B[38;5;124;43m'\u001B[39;49m\u001B[38;5;124;43m/g_path.txt\u001B[39;49m\u001B[38;5;124;43m'\u001B[39;49m\u001B[43m,\u001B[49m\u001B[38;5;124;43m'\u001B[39;49m\u001B[38;5;124;43mw\u001B[39;49m\u001B[38;5;124;43m'\u001B[39;49m\u001B[43m)\u001B[49m\n\u001B[1;32m      5\u001B[0m f\u001B[38;5;241m.\u001B[39mwrite(\u001B[38;5;124m'\u001B[39m\u001B[38;5;124m根目录\u001B[39m\u001B[38;5;124m'\u001B[39m)\n\u001B[1;32m      6\u001B[0m f\u001B[38;5;241m.\u001B[39mclose()\n",
      "\u001B[0;31mOSError\u001B[0m: [Errno 30] Read-only file system: '/g_path.txt'"
     ]
    }
   ],
   "source": [
    "f = open('test1.txt','w')\n",
    "f.write('当前目录')\n",
    "f.close()\n",
    "f = open('/test2.txt','w')\n",
    "f.write('根目录')\n",
    "f.close()\n",
    "f = open('./test3.txt','w')\n",
    "f.write('当前目录1')\n",
    "f.close()\n",
    "f = open('../test4.txt','w')\n",
    "f.write('上级目录')\n",
    "f.close()"
   ],
   "metadata": {
    "collapsed": false
   }
  },
  {
   "cell_type": "code",
   "execution_count": 13,
   "outputs": [
    {
     "name": "stdout",
     "output_type": "stream",
     "text": [
      "/Users/guanfawang/Python_Language/file_operations\n",
      "/Users/guanfawang/Python_Language\n"
     ]
    }
   ],
   "source": [
    "import os\n",
    "path1 = os.path.abspath('.') # 获取当前所处的文件夹绝对路径\n",
    "print(path1) # /Users/guanfawang/Python_Language/file_operations\n",
    "path2 = os.path.abspath('..') # 表示当前文件夹的上一级文件夹的绝对路径\n",
    "print(path2) # /Users/guanfawang/Python_Language"
   ],
   "metadata": {
    "collapsed": false
   }
  },
  {
   "cell_type": "code",
   "execution_count": 15,
   "outputs": [
    {
     "name": "stdout",
     "output_type": "stream",
     "text": [
      "home/develop/code\n",
      "home/develop/\n"
     ]
    }
   ],
   "source": [
    "import os\n",
    "path1 = 'home'\n",
    "path2 = 'develop'\n",
    "path3 = 'code'\n",
    "path4 = ''\n",
    "path5 = os.path.join(path1,path2,path3)\n",
    "print(path5)\n",
    "path6 = os.path.join(path1,path2,path4)\n",
    "print(path6)"
   ],
   "metadata": {
    "collapsed": false
   }
  },
  {
   "cell_type": "code",
   "execution_count": 16,
   "outputs": [
    {
     "name": "stdout",
     "output_type": "stream",
     "text": [
      "False\n"
     ]
    }
   ],
   "source": [
    "import os\n",
    "b = os.path.exists('test') # 判断当前目录下是否存在test文件夹\n",
    "print(b) # False"
   ],
   "metadata": {
    "collapsed": false
   }
  },
  {
   "cell_type": "code",
   "execution_count": 21,
   "outputs": [
    {
     "name": "stdout",
     "output_type": "stream",
     "text": [
      "\"/Users/guanfawang/Python_Language\"文件夹下类型为\"\"的文件共有\"2\"个\n",
      "\"/Users/guanfawang/Python_Language\"文件夹下类型为\".md\"的文件共有\"1\"个\n",
      "\"/Users/guanfawang/Python_Language\"文件夹下类型为\".txt\"的文件共有\"3\"个\n"
     ]
    }
   ],
   "source": [
    "import os\n",
    "def count_filetype(file_path):\n",
    "    file_dict={}\n",
    "    file_list=os.listdir(file_path)\n",
    "    for file in file_list:\n",
    "        pathname = os.path.join(file_path,file)\n",
    "        if os.path.isfile(pathname):\n",
    "            (file_name,file_extention) = os.path.splitext(file)\n",
    "            if file_dict.get(file_extention) == None:\n",
    "                count = 0\n",
    "            else:\n",
    "                count = file_dict.get(file_extention)\n",
    "        count += 1\n",
    "        file_dict.update({file_extention:count})\n",
    "    for key,count in file_dict.items():\n",
    "        print('\\\"%s\\\"文件夹下类型为\\\"%s\\\"的文件共有\\\"%s\\\"个'%(file_path,key,count))\n",
    "count_filetype(r'/Users/guanfawang/Python_Language') # 打印信息\n"
   ],
   "metadata": {
    "collapsed": false
   }
  },
  {
   "cell_type": "code",
   "execution_count": 25,
   "outputs": [
    {
     "ename": "OSError",
     "evalue": "[Errno 66] Directory not empty: 'test'",
     "output_type": "error",
     "traceback": [
      "\u001B[0;31m---------------------------------------------------------------------------\u001B[0m",
      "\u001B[0;31mOSError\u001B[0m                                   Traceback (most recent call last)",
      "Input \u001B[0;32mIn [25]\u001B[0m, in \u001B[0;36m<cell line: 5>\u001B[0;34m()\u001B[0m\n\u001B[1;32m      4\u001B[0m     os\u001B[38;5;241m.\u001B[39mmkdir(path1) \u001B[38;5;66;03m# 创建一级目录\u001B[39;00m\n\u001B[1;32m      5\u001B[0m \u001B[38;5;28;01mif\u001B[39;00m os\u001B[38;5;241m.\u001B[39mpath\u001B[38;5;241m.\u001B[39mexists(path1):\n\u001B[0;32m----> 6\u001B[0m     \u001B[43mos\u001B[49m\u001B[38;5;241;43m.\u001B[39;49m\u001B[43mrmdir\u001B[49m\u001B[43m(\u001B[49m\u001B[43mpath1\u001B[49m\u001B[43m)\u001B[49m \u001B[38;5;66;03m# 删除一级目录\u001B[39;00m\n\u001B[1;32m      7\u001B[0m path2 \u001B[38;5;241m=\u001B[39m \u001B[38;5;124m'\u001B[39m\u001B[38;5;124mtest/sub_test\u001B[39m\u001B[38;5;124m'\u001B[39m \u001B[38;5;66;03m# 定义多级目录\u001B[39;00m\n\u001B[1;32m      8\u001B[0m \u001B[38;5;28;01mif\u001B[39;00m \u001B[38;5;129;01mnot\u001B[39;00m os\u001B[38;5;241m.\u001B[39mpath\u001B[38;5;241m.\u001B[39mexists(path2):\n",
      "\u001B[0;31mOSError\u001B[0m: [Errno 66] Directory not empty: 'test'"
     ]
    }
   ],
   "source": [
    "import os\n",
    "path1 = 'test' # 定义单级目录\n",
    "if not os.path.exists(path1):\n",
    "    os.mkdir(path1) # 创建一级目录\n",
    "if os.path.exists(path1):\n",
    "    os.rmdir(path1) # 删除一级目录\n",
    "path2 = 'test/sub_test' # 定义多级目录\n",
    "if not os.path.exists(path2):\n",
    "    os.makedirs(path2) # 创建多级目录\n",
    "if os.path.exists(path2):\n",
    "    os.removedirs(path2) # 删除多级目录"
   ],
   "metadata": {
    "collapsed": false
   }
  },
  {
   "cell_type": "code",
   "execution_count": 26,
   "outputs": [],
   "source": [
    "import shutil\n",
    "shutil.rmtree('test')"
   ],
   "metadata": {
    "collapsed": false
   }
  },
  {
   "cell_type": "code",
   "execution_count": 32,
   "outputs": [
    {
     "name": "stdout",
     "output_type": "stream",
     "text": [
      "/Users/guanfawang/Python_Language/file_operations/a.mp3\n",
      "/Users/guanfawang/Python_Language/file_operations/cpi.csv\n",
      "/Users/guanfawang/Python_Language/file_operations/.txt\n",
      "/Users/guanfawang/Python_Language/file_operations/test4.txt\n",
      "/Users/guanfawang/Python_Language/file_operations/test2.txt\n",
      "/Users/guanfawang/Python_Language/file_operations/test3.txt\n",
      "/Users/guanfawang/Python_Language/file_operations/火车日记.mp3\n",
      "/Users/guanfawang/Python_Language/file_operations/1.html\n",
      "/Users/guanfawang/Python_Language/file_operations/filtered_words.txt\n",
      "/Users/guanfawang/Python_Language/file_operations/gcw_path.txt\n",
      "/Users/guanfawang/Python_Language/file_operations/1.ipynb\n",
      "/Users/guanfawang/Python_Language/file_operations/1.py\n",
      "/Users/guanfawang/Python_Language/file_operations/test.txt\n",
      "/Users/guanfawang/Python_Language/file_operations/open_file.ipynb\n"
     ]
    }
   ],
   "source": [
    "import os\n",
    "def visitDir(path):\n",
    "    for root,dirs,files in os.walk(path):\n",
    "        for filepath in files:\n",
    "            print(os.path.join(root,filepath))\n",
    "visitDir('/Users/guanfawang/Python_Language/file_operations')"
   ],
   "metadata": {
    "collapsed": false
   }
  },
  {
   "cell_type": "code",
   "execution_count": null,
   "outputs": [],
   "source": [],
   "metadata": {
    "collapsed": false
   }
  }
 ],
 "metadata": {
  "kernelspec": {
   "display_name": "Python 3",
   "language": "python",
   "name": "python3"
  },
  "language_info": {
   "codemirror_mode": {
    "name": "ipython",
    "version": 2
   },
   "file_extension": ".py",
   "mimetype": "text/x-python",
   "name": "python",
   "nbconvert_exporter": "python",
   "pygments_lexer": "ipython2",
   "version": "2.7.6"
  }
 },
 "nbformat": 4,
 "nbformat_minor": 0
}
